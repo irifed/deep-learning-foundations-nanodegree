{
 "cells": [
  {
   "cell_type": "markdown",
   "metadata": {
    "collapsed": true
   },
   "source": [
    "# Language Translation\n",
    "In this project, you’re going to take a peek into the realm of neural network machine translation.  You’ll be training a sequence to sequence model on a dataset of English and French sentences that can translate new sentences from English to French.\n",
    "## Get the Data\n",
    "Since translating the whole language of English to French will take lots of time to train, we have provided you with a small portion of the English corpus."
   ]
  },
  {
   "cell_type": "code",
   "execution_count": 1,
   "metadata": {
    "collapsed": true
   },
   "outputs": [],
   "source": [
    "\"\"\"\n",
    "DON'T MODIFY ANYTHING IN THIS CELL\n",
    "\"\"\"\n",
    "import helper\n",
    "import problem_unittests as tests\n",
    "\n",
    "source_path = 'data/small_vocab_en'\n",
    "target_path = 'data/small_vocab_fr'\n",
    "source_text = helper.load_data(source_path)\n",
    "target_text = helper.load_data(target_path)"
   ]
  },
  {
   "cell_type": "markdown",
   "metadata": {},
   "source": [
    "## Explore the Data\n",
    "Play around with view_sentence_range to view different parts of the data."
   ]
  },
  {
   "cell_type": "code",
   "execution_count": 2,
   "metadata": {},
   "outputs": [
    {
     "name": "stdout",
     "output_type": "stream",
     "text": [
      "Dataset Stats\n",
      "Roughly the number of unique words: 227\n",
      "Number of sentences: 137861\n",
      "Average number of words in a sentence: 13.225277634719028\n",
      "\n",
      "English sentences 0 to 10:\n",
      "new jersey is sometimes quiet during autumn , and it is snowy in april .\n",
      "the united states is usually chilly during july , and it is usually freezing in november .\n",
      "california is usually quiet during march , and it is usually hot in june .\n",
      "the united states is sometimes mild during june , and it is cold in september .\n",
      "your least liked fruit is the grape , but my least liked is the apple .\n",
      "his favorite fruit is the orange , but my favorite is the grape .\n",
      "paris is relaxing during december , but it is usually chilly in july .\n",
      "new jersey is busy during spring , and it is never hot in march .\n",
      "our least liked fruit is the lemon , but my least liked is the grape .\n",
      "the united states is sometimes busy during january , and it is sometimes warm in november .\n",
      "\n",
      "French sentences 0 to 10:\n",
      "new jersey est parfois calme pendant l' automne , et il est neigeux en avril .\n",
      "les états-unis est généralement froid en juillet , et il gèle habituellement en novembre .\n",
      "california est généralement calme en mars , et il est généralement chaud en juin .\n",
      "les états-unis est parfois légère en juin , et il fait froid en septembre .\n",
      "votre moins aimé fruit est le raisin , mais mon moins aimé est la pomme .\n",
      "son fruit préféré est l'orange , mais mon préféré est le raisin .\n",
      "paris est relaxant en décembre , mais il est généralement froid en juillet .\n",
      "new jersey est occupé au printemps , et il est jamais chaude en mars .\n",
      "notre fruit est moins aimé le citron , mais mon moins aimé est le raisin .\n",
      "les états-unis est parfois occupé en janvier , et il est parfois chaud en novembre .\n"
     ]
    }
   ],
   "source": [
    "view_sentence_range = (0, 10)\n",
    "\n",
    "\"\"\"\n",
    "DON'T MODIFY ANYTHING IN THIS CELL\n",
    "\"\"\"\n",
    "import numpy as np\n",
    "\n",
    "print('Dataset Stats')\n",
    "print('Roughly the number of unique words: {}'.format(len({word: None for word in source_text.split()})))\n",
    "\n",
    "sentences = source_text.split('\\n')\n",
    "word_counts = [len(sentence.split()) for sentence in sentences]\n",
    "print('Number of sentences: {}'.format(len(sentences)))\n",
    "print('Average number of words in a sentence: {}'.format(np.average(word_counts)))\n",
    "\n",
    "print()\n",
    "print('English sentences {} to {}:'.format(*view_sentence_range))\n",
    "print('\\n'.join(source_text.split('\\n')[view_sentence_range[0]:view_sentence_range[1]]))\n",
    "print()\n",
    "print('French sentences {} to {}:'.format(*view_sentence_range))\n",
    "print('\\n'.join(target_text.split('\\n')[view_sentence_range[0]:view_sentence_range[1]]))"
   ]
  },
  {
   "cell_type": "markdown",
   "metadata": {},
   "source": [
    "## Implement Preprocessing Function\n",
    "### Text to Word Ids\n",
    "As you did with other RNNs, you must turn the text into a number so the computer can understand it. In the function `text_to_ids()`, you'll turn `source_text` and `target_text` from words to ids.  However, you need to add the `<EOS>` word id at the end of `target_text`.  This will help the neural network predict when the sentence should end.\n",
    "\n",
    "You can get the `<EOS>` word id by doing:\n",
    "```python\n",
    "target_vocab_to_int['<EOS>']\n",
    "```\n",
    "You can get other word ids using `source_vocab_to_int` and `target_vocab_to_int`."
   ]
  },
  {
   "cell_type": "code",
   "execution_count": 3,
   "metadata": {},
   "outputs": [
    {
     "name": "stdout",
     "output_type": "stream",
     "text": [
      "Tests Passed\n"
     ]
    }
   ],
   "source": [
    "def text_to_ids(source_text, target_text, source_vocab_to_int, target_vocab_to_int):\n",
    "    \"\"\"\n",
    "    Convert source and target text to proper word ids\n",
    "    :param source_text: String that contains all the source text.\n",
    "    :param target_text: String that contains all the target text.\n",
    "    :param source_vocab_to_int: Dictionary to go from the source words to an id\n",
    "    :param target_vocab_to_int: Dictionary to go from the target words to an id\n",
    "    :return: A tuple of lists (source_id_text, target_id_text)\n",
    "    \"\"\"\n",
    "    # TODO: Implement Function\n",
    "    \n",
    "    eos = target_vocab_to_int['<EOS>']\n",
    "        \n",
    "    source_ids = [[source_vocab_to_int[w] for w in s.split()] for s in source_text.split('\\n')]\n",
    "    target_ids = [[target_vocab_to_int[w] for w in s.split()] + [eos] for s in target_text.split('\\n')]\n",
    "    \n",
    "    return source_ids, target_ids\n",
    "\n",
    "\"\"\"\n",
    "DON'T MODIFY ANYTHING IN THIS CELL THAT IS BELOW THIS LINE\n",
    "\"\"\"\n",
    "tests.test_text_to_ids(text_to_ids)"
   ]
  },
  {
   "cell_type": "markdown",
   "metadata": {},
   "source": [
    "### Preprocess all the data and save it\n",
    "Running the code cell below will preprocess all the data and save it to file."
   ]
  },
  {
   "cell_type": "code",
   "execution_count": 4,
   "metadata": {
    "collapsed": true
   },
   "outputs": [],
   "source": [
    "\"\"\"\n",
    "DON'T MODIFY ANYTHING IN THIS CELL\n",
    "\"\"\"\n",
    "helper.preprocess_and_save_data(source_path, target_path, text_to_ids)"
   ]
  },
  {
   "cell_type": "markdown",
   "metadata": {},
   "source": [
    "# Check Point\n",
    "This is your first checkpoint. If you ever decide to come back to this notebook or have to restart the notebook, you can start from here. The preprocessed data has been saved to disk."
   ]
  },
  {
   "cell_type": "code",
   "execution_count": 5,
   "metadata": {
    "collapsed": true
   },
   "outputs": [],
   "source": [
    "\"\"\"\n",
    "DON'T MODIFY ANYTHING IN THIS CELL\n",
    "\"\"\"\n",
    "import numpy as np\n",
    "import helper\n",
    "import problem_unittests as tests\n",
    "\n",
    "(source_int_text, target_int_text), (source_vocab_to_int, target_vocab_to_int), _ = helper.load_preprocess()"
   ]
  },
  {
   "cell_type": "markdown",
   "metadata": {},
   "source": [
    "### Check the Version of TensorFlow and Access to GPU\n",
    "This will check to make sure you have the correct version of TensorFlow and access to a GPU"
   ]
  },
  {
   "cell_type": "code",
   "execution_count": 6,
   "metadata": {},
   "outputs": [
    {
     "name": "stdout",
     "output_type": "stream",
     "text": [
      "TensorFlow Version: 1.1.0\n",
      "Default GPU Device: /gpu:0\n"
     ]
    }
   ],
   "source": [
    "\"\"\"\n",
    "DON'T MODIFY ANYTHING IN THIS CELL\n",
    "\"\"\"\n",
    "from distutils.version import LooseVersion\n",
    "import warnings\n",
    "import tensorflow as tf\n",
    "from tensorflow.python.layers.core import Dense\n",
    "\n",
    "# Check TensorFlow Version\n",
    "print('TensorFlow Version: {}'.format(tf.__version__))\n",
    "assert LooseVersion(tf.__version__) >= LooseVersion('1.1'), 'Please use TensorFlow version 1.1 or newer'\n",
    "\n",
    "\n",
    "# Check for a GPU\n",
    "if not tf.test.gpu_device_name():\n",
    "    warnings.warn('No GPU found. Please use a GPU to train your neural network.')\n",
    "else:\n",
    "    print('Default GPU Device: {}'.format(tf.test.gpu_device_name()))"
   ]
  },
  {
   "cell_type": "markdown",
   "metadata": {},
   "source": [
    "## Build the Neural Network\n",
    "You'll build the components necessary to build a Sequence-to-Sequence model by implementing the following functions below:\n",
    "- `model_inputs`\n",
    "- `process_decoder_input`\n",
    "- `encoding_layer`\n",
    "- `decoding_layer_train`\n",
    "- `decoding_layer_infer`\n",
    "- `decoding_layer`\n",
    "- `seq2seq_model`\n",
    "\n",
    "### Input\n",
    "Implement the `model_inputs()` function to create TF Placeholders for the Neural Network. It should create the following placeholders:\n",
    "\n",
    "- Input text placeholder named \"input\" using the TF Placeholder name parameter with rank 2.\n",
    "- Targets placeholder with rank 2.\n",
    "- Learning rate placeholder with rank 0.\n",
    "- Keep probability placeholder named \"keep_prob\" using the TF Placeholder name parameter with rank 0.\n",
    "- Target sequence length placeholder named \"target_sequence_length\" with rank 1\n",
    "- Max target sequence length tensor named \"max_target_len\" getting its value from applying tf.reduce_max on the target_sequence_length placeholder. Rank 0.\n",
    "- Source sequence length placeholder named \"source_sequence_length\" with rank 1\n",
    "\n",
    "Return the placeholders in the following the tuple (input, targets, learning rate, keep probability, target sequence length, max target sequence length, source sequence length)"
   ]
  },
  {
   "cell_type": "code",
   "execution_count": 17,
   "metadata": {},
   "outputs": [
    {
     "name": "stdout",
     "output_type": "stream",
     "text": [
      "Tests Passed\n"
     ]
    }
   ],
   "source": [
    "def model_inputs():\n",
    "    \"\"\"\n",
    "    Create TF Placeholders for input, targets, learning rate, and lengths of source and target sequences.\n",
    "    :return: Tuple (input, targets, learning rate, keep probability, target sequence length,\n",
    "    max target sequence length, source sequence length)\n",
    "    \"\"\"\n",
    "    # TODO: Implement Function\n",
    "    \n",
    "    input = tf.placeholder(tf.int32, shape=(None, None), name='input')\n",
    "    targets = tf.placeholder(tf.int32, shape=(None, None), name='targets')\n",
    "    lrate = tf.placeholder(tf.float32, shape=None, name='lrate')\n",
    "    keep_prob = tf.placeholder(tf.float32, shape=None, name='keep_prob')\n",
    "    target_seq_len = tf.placeholder(shape=(None,), dtype=tf.int32, name='target_sequence_length')\n",
    "    max_target_seq_len = tf.reduce_max(target_seq_len, name='max_target_len')\n",
    "    source_seq_len = tf.placeholder(tf.int32, shape=(None,), name='source_sequence_length')\n",
    "    \n",
    "    return input, targets, lrate, keep_prob, target_seq_len, max_target_seq_len, source_seq_len\n",
    "\n",
    "\n",
    "\"\"\"\n",
    "DON'T MODIFY ANYTHING IN THIS CELL THAT IS BELOW THIS LINE\n",
    "\"\"\"\n",
    "tests.test_model_inputs(model_inputs)"
   ]
  },
  {
   "cell_type": "markdown",
   "metadata": {},
   "source": [
    "### Process Decoder Input\n",
    "Implement `process_decoder_input` by removing the last word id from each batch in `target_data` and concat the GO ID to the begining of each batch."
   ]
  },
  {
   "cell_type": "code",
   "execution_count": 8,
   "metadata": {},
   "outputs": [
    {
     "name": "stdout",
     "output_type": "stream",
     "text": [
      "Tests Passed\n"
     ]
    }
   ],
   "source": [
    "def process_decoder_input(target_data, target_vocab_to_int, batch_size):\n",
    "    \"\"\"\n",
    "    Preprocess target data for encoding\n",
    "    :param target_data: Target Placehoder\n",
    "    :param target_vocab_to_int: Dictionary to go from the target words to an id\n",
    "    :param batch_size: Batch Size\n",
    "    :return: Preprocessed target data\n",
    "    \"\"\"\n",
    "    \n",
    "    go_batch = tf.constant(target_vocab_to_int['<GO>'], shape=(batch_size, 1), dtype=tf.int32)\n",
    "    \n",
    "    target = tf.concat([go_batch, target_data[:,:-1]], axis=1)\n",
    "    \n",
    "    return target\n",
    "\n",
    "\"\"\"\n",
    "DON'T MODIFY ANYTHING IN THIS CELL THAT IS BELOW THIS LINE\n",
    "\"\"\"\n",
    "tests.test_process_encoding_input(process_decoder_input)"
   ]
  },
  {
   "cell_type": "markdown",
   "metadata": {},
   "source": [
    "### Encoding\n",
    "Implement `encoding_layer()` to create a Encoder RNN layer:\n",
    " * Embed the encoder input using [`tf.contrib.layers.embed_sequence`](https://www.tensorflow.org/api_docs/python/tf/contrib/layers/embed_sequence)\n",
    " * Construct a [stacked](https://github.com/tensorflow/tensorflow/blob/6947f65a374ebf29e74bb71e36fd82760056d82c/tensorflow/docs_src/tutorials/recurrent.md#stacking-multiple-lstms) [`tf.contrib.rnn.LSTMCell`](https://www.tensorflow.org/api_docs/python/tf/contrib/rnn/LSTMCell) wrapped in a [`tf.contrib.rnn.DropoutWrapper`](https://www.tensorflow.org/api_docs/python/tf/contrib/rnn/DropoutWrapper)\n",
    " * Pass cell and embedded input to [`tf.nn.dynamic_rnn()`](https://www.tensorflow.org/api_docs/python/tf/nn/dynamic_rnn)"
   ]
  },
  {
   "cell_type": "code",
   "execution_count": 9,
   "metadata": {
    "scrolled": false
   },
   "outputs": [
    {
     "name": "stdout",
     "output_type": "stream",
     "text": [
      "Tests Passed\n"
     ]
    }
   ],
   "source": [
    "from imp import reload\n",
    "reload(tests)\n",
    "\n",
    "\n",
    "def encoding_layer(rnn_inputs, rnn_size, num_layers, keep_prob,\n",
    "                   source_sequence_length, source_vocab_size,\n",
    "                   encoding_embedding_size):\n",
    "    \"\"\"\n",
    "    Create encoding layer\n",
    "    :param rnn_inputs: Inputs for the RNN\n",
    "    :param rnn_size: RNN Size\n",
    "    :param num_layers: Number of layers\n",
    "    :param keep_prob: Dropout keep probability\n",
    "    :param source_sequence_length: a list of the lengths of each sequence in the batch\n",
    "    :param source_vocab_size: vocabulary size of source data\n",
    "    :param encoding_embedding_size: embedding size of source data\n",
    "    :return: tuple (RNN output, RNN state)\n",
    "    \"\"\"\n",
    "    # TODO: Implement Function\n",
    "    def lstm_cell(rnn_size, keep_prob):\n",
    "        lstm = tf.contrib.rnn.LSTMCell(rnn_size, activation=tf.sigmoid)\n",
    "        lstm = tf.contrib.rnn.DropoutWrapper(lstm, output_keep_prob=keep_prob)\n",
    "        return lstm\n",
    "\n",
    "    rnn = tf.contrib.rnn.MultiRNNCell(\n",
    "        [lstm_cell(rnn_size, keep_prob) for _ in range(num_layers)])\n",
    "\n",
    "    encoded_inputs = tf.contrib.layers.embed_sequence(rnn_inputs,\n",
    "                                                      vocab_size=source_vocab_size,\n",
    "                                                      embed_dim=encoding_embedding_size)\n",
    "\n",
    "    encoder, state = tf.nn.dynamic_rnn(cell=rnn,\n",
    "                                       inputs=encoded_inputs,\n",
    "                                       sequence_length=source_sequence_length,\n",
    "                                       initial_state=None,\n",
    "                                       dtype=tf.float32)\n",
    "\n",
    "    return encoder, state\n",
    "\n",
    "\n",
    "\"\"\"\n",
    "DON'T MODIFY ANYTHING IN THIS CELL THAT IS BELOW THIS LINE\n",
    "\"\"\"\n",
    "tests.test_encoding_layer(encoding_layer)"
   ]
  },
  {
   "cell_type": "markdown",
   "metadata": {},
   "source": [
    "### Decoding - Training\n",
    "Create a training decoding layer:\n",
    "* Create a [`tf.contrib.seq2seq.TrainingHelper`](https://www.tensorflow.org/api_docs/python/tf/contrib/seq2seq/TrainingHelper) \n",
    "* Create a [`tf.contrib.seq2seq.BasicDecoder`](https://www.tensorflow.org/api_docs/python/tf/contrib/seq2seq/BasicDecoder)\n",
    "* Obtain the decoder outputs from [`tf.contrib.seq2seq.dynamic_decode`](https://www.tensorflow.org/api_docs/python/tf/contrib/seq2seq/dynamic_decode)"
   ]
  },
  {
   "cell_type": "code",
   "execution_count": 10,
   "metadata": {},
   "outputs": [
    {
     "name": "stdout",
     "output_type": "stream",
     "text": [
      "Tests Passed\n"
     ]
    }
   ],
   "source": [
    "def decoding_layer_train(encoder_state, dec_cell, dec_embed_input, \n",
    "                         target_sequence_length, max_summary_length, \n",
    "                         output_layer, keep_prob):\n",
    "    \"\"\"\n",
    "    Create a decoding layer for training\n",
    "    :param encoder_state: Encoder State\n",
    "    :param dec_cell: Decoder RNN Cell\n",
    "    :param dec_embed_input: Decoder embedded input\n",
    "    :param target_sequence_length: The lengths of each sequence in the target batch\n",
    "    :param max_summary_length: The length of the longest sequence in the batch\n",
    "    :param output_layer: Function to apply the output layer\n",
    "    :param keep_prob: Dropout keep probability\n",
    "    :return: BasicDecoderOutput containing training logits and sample_id\n",
    "    \"\"\"\n",
    "    trainig_helper = tf.contrib.seq2seq.TrainingHelper(\n",
    "        dec_embed_input, \n",
    "        sequence_length=target_sequence_length)\n",
    "    \n",
    "    basic_decoder = tf.contrib.seq2seq.BasicDecoder(\n",
    "        cell=dec_cell, \n",
    "        helper=trainig_helper, \n",
    "        initial_state=encoder_state, \n",
    "        output_layer=output_layer)\n",
    "    \n",
    "    decoder, _ = tf.contrib.seq2seq.dynamic_decode(\n",
    "        basic_decoder,\n",
    "        maximum_iterations=max_summary_length)\n",
    "    \n",
    "    return decoder\n",
    "\n",
    "\"\"\"\n",
    "DON'T MODIFY ANYTHING IN THIS CELL THAT IS BELOW THIS LINE\n",
    "\"\"\"\n",
    "tests.test_decoding_layer_train(decoding_layer_train)"
   ]
  },
  {
   "cell_type": "markdown",
   "metadata": {},
   "source": [
    "### Decoding - Inference\n",
    "Create inference decoder:\n",
    "* Create a [`tf.contrib.seq2seq.GreedyEmbeddingHelper`](https://www.tensorflow.org/api_docs/python/tf/contrib/seq2seq/GreedyEmbeddingHelper)\n",
    "* Create a [`tf.contrib.seq2seq.BasicDecoder`](https://www.tensorflow.org/api_docs/python/tf/contrib/seq2seq/BasicDecoder)\n",
    "* Obtain the decoder outputs from [`tf.contrib.seq2seq.dynamic_decode`](https://www.tensorflow.org/api_docs/python/tf/contrib/seq2seq/dynamic_decode)"
   ]
  },
  {
   "cell_type": "code",
   "execution_count": 11,
   "metadata": {
    "scrolled": true
   },
   "outputs": [
    {
     "name": "stdout",
     "output_type": "stream",
     "text": [
      "Tests Passed\n"
     ]
    }
   ],
   "source": [
    "def decoding_layer_infer(encoder_state, dec_cell, dec_embeddings, start_of_sequence_id,\n",
    "                         end_of_sequence_id, max_target_sequence_length,\n",
    "                         vocab_size, output_layer, batch_size, keep_prob):\n",
    "    \"\"\"\n",
    "    Create a decoding layer for inference\n",
    "    :param encoder_state: Encoder state\n",
    "    :param dec_cell: Decoder RNN Cell\n",
    "    :param dec_embeddings: Decoder embeddings\n",
    "    :param start_of_sequence_id: GO ID\n",
    "    :param end_of_sequence_id: EOS Id\n",
    "    :param max_target_sequence_length: Maximum length of target sequences\n",
    "    :param vocab_size: Size of decoder/target vocabulary\n",
    "    :param decoding_scope: TenorFlow Variable Scope for decoding\n",
    "    :param output_layer: Function to apply the output layer\n",
    "    :param batch_size: Batch size\n",
    "    :param keep_prob: Dropout keep probability\n",
    "    :return: BasicDecoderOutput containing inference logits and sample_id\n",
    "    \"\"\"\n",
    "    start_ids = tf.tile(tf.constant(\n",
    "        [start_of_sequence_id], dtype=tf.int32), [batch_size])\n",
    "\n",
    "    helper = tf.contrib.seq2seq.GreedyEmbeddingHelper(\n",
    "        dec_embeddings,\n",
    "        start_ids,\n",
    "        end_of_sequence_id)\n",
    "\n",
    "    decoder = tf.contrib.seq2seq.BasicDecoder(\n",
    "        dec_cell,\n",
    "        helper,\n",
    "        encoder_state,\n",
    "        output_layer)\n",
    "\n",
    "    decoder_output, _ = tf.contrib.seq2seq.dynamic_decode(\n",
    "        decoder, \n",
    "        maximum_iterations=max_target_sequence_length)\n",
    "\n",
    "    return decoder_output\n",
    "\n",
    "\n",
    "\"\"\"\n",
    "DON'T MODIFY ANYTHING IN THIS CELL THAT IS BELOW THIS LINE\n",
    "\"\"\"\n",
    "tests.test_decoding_layer_infer(decoding_layer_infer)"
   ]
  },
  {
   "cell_type": "markdown",
   "metadata": {},
   "source": [
    "### Build the Decoding Layer\n",
    "Implement `decoding_layer()` to create a Decoder RNN layer.\n",
    "\n",
    "* Embed the target sequences\n",
    "* Construct the decoder LSTM cell (just like you constructed the encoder cell above)\n",
    "* Create an output layer to map the outputs of the decoder to the elements of our vocabulary\n",
    "* Use the your `decoding_layer_train(encoder_state, dec_cell, dec_embed_input, target_sequence_length, max_target_sequence_length, output_layer, keep_prob)` function to get the training logits.\n",
    "* Use your `decoding_layer_infer(encoder_state, dec_cell, dec_embeddings, start_of_sequence_id, end_of_sequence_id, max_target_sequence_length, vocab_size, output_layer, batch_size, keep_prob)` function to get the inference logits.\n",
    "\n",
    "Note: You'll need to use [tf.variable_scope](https://www.tensorflow.org/api_docs/python/tf/variable_scope) to share variables between training and inference."
   ]
  },
  {
   "cell_type": "code",
   "execution_count": 12,
   "metadata": {},
   "outputs": [
    {
     "name": "stdout",
     "output_type": "stream",
     "text": [
      "Tests Passed\n"
     ]
    }
   ],
   "source": [
    "def decoding_layer(dec_input, encoder_state,\n",
    "                   target_sequence_length, max_target_sequence_length,\n",
    "                   rnn_size,\n",
    "                   num_layers, target_vocab_to_int, target_vocab_size,\n",
    "                   batch_size, keep_prob, decoding_embedding_size):\n",
    "    \"\"\"\n",
    "    Create decoding layer\n",
    "    :param dec_input: Decoder input\n",
    "    :param encoder_state: Encoder state\n",
    "    :param target_sequence_length: The lengths of each sequence in the target batch\n",
    "    :param max_target_sequence_length: Maximum length of target sequences\n",
    "    :param rnn_size: RNN Size\n",
    "    :param num_layers: Number of layers\n",
    "    :param target_vocab_to_int: Dictionary to go from the target words to an id\n",
    "    :param target_vocab_size: Size of target vocabulary\n",
    "    :param batch_size: The size of the batch\n",
    "    :param keep_prob: Dropout keep probability\n",
    "    :param decoding_embedding_size: Decoding embedding size\n",
    "    :return: Tuple of (Training BasicDecoderOutput, Inference BasicDecoderOutput)\n",
    "    \"\"\"\n",
    "    # * Embed the target sequences\n",
    "    embeddings = tf.Variable(tf.random_uniform([target_vocab_size, decoding_embedding_size]))\n",
    "    embed_input = tf.nn.embedding_lookup(embeddings, dec_input)\n",
    "\n",
    "    # * Construct the decoder LSTM cell (just like you constructed the encoder cell above)\n",
    "    def lstm(rnn_size):\n",
    "        lstm = tf.contrib.rnn.LSTMCell(rnn_size)\n",
    "        dropout = tf.contrib.rnn.DropoutWrapper(lstm, keep_prob)\n",
    "        return dropout\n",
    "    \n",
    "    dec_cell = tf.contrib.rnn.MultiRNNCell([lstm(rnn_size) for _ in range(num_layers)])\n",
    "    \n",
    "    # * Create an output layer to map the outputs of the decoder to the elements of our vocabulary\n",
    "    stddev_ = 0.1\n",
    "    kernel_initializer = tf.truncated_normal_initializer(stddev=stddev_)\n",
    "    output_layer = Dense(target_vocab_size, kernel_initializer=kernel_initializer)\n",
    "    \n",
    "    # * Use the your `decoding_layer_train(encoder_state, dec_cell, dec_embed_input, target_sequence_length, \n",
    "    #   max_target_sequence_length, output_layer, keep_prob)` function to get the training logits.\n",
    "    with tf.variable_scope('decode'):\n",
    "        train_logits = decoding_layer_train(encoder_state, \n",
    "                                            dec_cell, \n",
    "                                            embed_input, \n",
    "                                            target_sequence_length,\n",
    "                                            max_target_sequence_length, \n",
    "                                            output_layer, \n",
    "                                            keep_prob)     \n",
    "        \n",
    "    # * Use your `decoding_layer_infer(encoder_state, dec_cell, dec_embeddings, start_of_sequence_id, \n",
    "    #   end_of_sequence_id, max_target_sequence_length, vocab_size, output_layer, batch_size, keep_prob)` \n",
    "    #   function to get the inference logits.\n",
    "    with tf.variable_scope('decode', reuse=True):\n",
    "        infer_logits = decoding_layer_infer(encoder_state, \n",
    "                                            dec_cell, \n",
    "                                            embeddings, \n",
    "                                            target_vocab_to_int['<GO>'], \n",
    "                                            target_vocab_to_int['<EOS>'],\n",
    "                                            max_target_sequence_length, \n",
    "                                            target_vocab_size,\n",
    "                                            output_layer, \n",
    "                                            batch_size,\n",
    "                                            keep_prob)\n",
    "\n",
    "    return train_logits, infer_logits\n",
    "\n",
    "\n",
    "\"\"\"\n",
    "DON'T MODIFY ANYTHING IN THIS CELL THAT IS BELOW THIS LINE\n",
    "\"\"\"\n",
    "tests.test_decoding_layer(decoding_layer)"
   ]
  },
  {
   "cell_type": "markdown",
   "metadata": {},
   "source": [
    "### Build the Neural Network\n",
    "Apply the functions you implemented above to:\n",
    "\n",
    "- Encode the input using your `encoding_layer(rnn_inputs, rnn_size, num_layers, keep_prob,  source_sequence_length, source_vocab_size, encoding_embedding_size)`.\n",
    "- Process target data using your `process_decoder_input(target_data, target_vocab_to_int, batch_size)` function.\n",
    "- Decode the encoded input using your `decoding_layer(dec_input, enc_state, target_sequence_length, max_target_sentence_length, rnn_size, num_layers, target_vocab_to_int, target_vocab_size, batch_size, keep_prob, dec_embedding_size)` function."
   ]
  },
  {
   "cell_type": "code",
   "execution_count": 13,
   "metadata": {},
   "outputs": [
    {
     "name": "stdout",
     "output_type": "stream",
     "text": [
      "Tests Passed\n"
     ]
    }
   ],
   "source": [
    "def seq2seq_model(input_data, target_data, keep_prob, batch_size,\n",
    "                  source_sequence_length, target_sequence_length,\n",
    "                  max_target_sentence_length,\n",
    "                  source_vocab_size, target_vocab_size,\n",
    "                  enc_embedding_size, dec_embedding_size,\n",
    "                  rnn_size, num_layers, target_vocab_to_int):\n",
    "    \"\"\"\n",
    "    Build the Sequence-to-Sequence part of the neural network\n",
    "    :param input_data: Input placeholder\n",
    "    :param target_data: Target placeholder\n",
    "    :param keep_prob: Dropout keep probability placeholder\n",
    "    :param batch_size: Batch Size\n",
    "    :param source_sequence_length: Sequence Lengths of source sequences in the batch\n",
    "    :param target_sequence_length: Sequence Lengths of target sequences in the batch\n",
    "    :param source_vocab_size: Source vocabulary size\n",
    "    :param target_vocab_size: Target vocabulary size\n",
    "    :param enc_embedding_size: Decoder embedding size\n",
    "    :param dec_embedding_size: Encoder embedding size\n",
    "    :param rnn_size: RNN Size\n",
    "    :param num_layers: Number of layers\n",
    "    :param target_vocab_to_int: Dictionary to go from the target words to an id\n",
    "    :return: Tuple of (Training BasicDecoderOutput, Inference BasicDecoderOutput)\n",
    "    \"\"\"\n",
    "    output, state = encoding_layer(input_data,\n",
    "                                   rnn_size,\n",
    "                                   num_layers,\n",
    "                                   keep_prob,\n",
    "                                   source_sequence_length,\n",
    "                                   source_vocab_size,\n",
    "                                   enc_embedding_size)\n",
    "\n",
    "    processed_input = process_decoder_input(target_data,\n",
    "                                            target_vocab_to_int,\n",
    "                                            batch_size)\n",
    "\n",
    "    train_logits, infer_logits = decoding_layer(processed_input,\n",
    "                                                state,\n",
    "                                                target_sequence_length,\n",
    "                                                max_target_sentence_length,\n",
    "                                                rnn_size,\n",
    "                                                num_layers,\n",
    "                                                target_vocab_to_int,\n",
    "                                                target_vocab_size,\n",
    "                                                batch_size,\n",
    "                                                keep_prob,\n",
    "                                                dec_embedding_size)\n",
    "\n",
    "    return train_logits, infer_logits\n",
    "\n",
    "\n",
    "\"\"\"\n",
    "DON'T MODIFY ANYTHING IN THIS CELL THAT IS BELOW THIS LINE\n",
    "\"\"\"\n",
    "tests.test_seq2seq_model(seq2seq_model)"
   ]
  },
  {
   "cell_type": "markdown",
   "metadata": {},
   "source": [
    "## Neural Network Training\n",
    "### Hyperparameters\n",
    "Tune the following parameters:\n",
    "\n",
    "- Set `epochs` to the number of epochs.\n",
    "- Set `batch_size` to the batch size.\n",
    "- Set `rnn_size` to the size of the RNNs.\n",
    "- Set `num_layers` to the number of layers.\n",
    "- Set `encoding_embedding_size` to the size of the embedding for the encoder.\n",
    "- Set `decoding_embedding_size` to the size of the embedding for the decoder.\n",
    "- Set `learning_rate` to the learning rate.\n",
    "- Set `keep_probability` to the Dropout keep probability\n",
    "- Set `display_step` to state how many steps between each debug output statement"
   ]
  },
  {
   "cell_type": "code",
   "execution_count": 32,
   "metadata": {
    "collapsed": true
   },
   "outputs": [],
   "source": [
    "# Number of Epochs\n",
    "epochs = 4\n",
    "# Batch Size\n",
    "batch_size = 256\n",
    "# RNN Size\n",
    "rnn_size = 512\n",
    "# Number of Layers\n",
    "num_layers = 2\n",
    "# Embedding Size\n",
    "encoding_embedding_size = 256\n",
    "decoding_embedding_size = 256\n",
    "# Learning Rate\n",
    "learning_rate = 0.001\n",
    "# Dropout Keep Probability\n",
    "keep_probability = 0.8\n",
    "display_step = 10"
   ]
  },
  {
   "cell_type": "markdown",
   "metadata": {},
   "source": [
    "### Build the Graph\n",
    "Build the graph using the neural network you implemented."
   ]
  },
  {
   "cell_type": "code",
   "execution_count": 33,
   "metadata": {
    "collapsed": true
   },
   "outputs": [],
   "source": [
    "\"\"\"\n",
    "DON'T MODIFY ANYTHING IN THIS CELL\n",
    "\"\"\"\n",
    "save_path = 'checkpoints/dev'\n",
    "(source_int_text, target_int_text), (source_vocab_to_int, target_vocab_to_int), _ = helper.load_preprocess()\n",
    "max_target_sentence_length = max([len(sentence) for sentence in source_int_text])\n",
    "\n",
    "train_graph = tf.Graph()\n",
    "with train_graph.as_default():\n",
    "    input_data, targets, lr, keep_prob, target_sequence_length, max_target_sequence_length, source_sequence_length = model_inputs()\n",
    "\n",
    "    #sequence_length = tf.placeholder_with_default(max_target_sentence_length, None, name='sequence_length')\n",
    "    input_shape = tf.shape(input_data)\n",
    "\n",
    "    train_logits, inference_logits = seq2seq_model(tf.reverse(input_data, [-1]),\n",
    "                                                   targets,\n",
    "                                                   keep_prob,\n",
    "                                                   batch_size,\n",
    "                                                   source_sequence_length,\n",
    "                                                   target_sequence_length,\n",
    "                                                   max_target_sequence_length,\n",
    "                                                   len(source_vocab_to_int),\n",
    "                                                   len(target_vocab_to_int),\n",
    "                                                   encoding_embedding_size,\n",
    "                                                   decoding_embedding_size,\n",
    "                                                   rnn_size,\n",
    "                                                   num_layers,\n",
    "                                                   target_vocab_to_int)\n",
    "\n",
    "\n",
    "    training_logits = tf.identity(train_logits.rnn_output, name='logits')\n",
    "    inference_logits = tf.identity(inference_logits.sample_id, name='predictions')\n",
    "\n",
    "    masks = tf.sequence_mask(target_sequence_length, max_target_sequence_length, dtype=tf.float32, name='masks')\n",
    "\n",
    "    with tf.name_scope(\"optimization\"):\n",
    "        # Loss function\n",
    "        cost = tf.contrib.seq2seq.sequence_loss(\n",
    "            training_logits,\n",
    "            targets,\n",
    "            masks)\n",
    "\n",
    "        # Optimizer\n",
    "        optimizer = tf.train.AdamOptimizer(lr)\n",
    "\n",
    "        # Gradient Clipping\n",
    "        gradients = optimizer.compute_gradients(cost)\n",
    "        capped_gradients = [(tf.clip_by_value(grad, -1., 1.), var) for grad, var in gradients if grad is not None]\n",
    "        train_op = optimizer.apply_gradients(capped_gradients)\n"
   ]
  },
  {
   "cell_type": "markdown",
   "metadata": {},
   "source": [
    "## Batch and pad the source and target sequences"
   ]
  },
  {
   "cell_type": "code",
   "execution_count": 34,
   "metadata": {
    "collapsed": true
   },
   "outputs": [],
   "source": [
    "\"\"\"\n",
    "DON'T MODIFY ANYTHING IN THIS CELL\n",
    "\"\"\"\n",
    "def pad_sentence_batch(sentence_batch, pad_int):\n",
    "    \"\"\"Pad sentences with <PAD> so that each sentence of a batch has the same length\"\"\"\n",
    "    max_sentence = max([len(sentence) for sentence in sentence_batch])\n",
    "    return [sentence + [pad_int] * (max_sentence - len(sentence)) for sentence in sentence_batch]\n",
    "\n",
    "\n",
    "def get_batches(sources, targets, batch_size, source_pad_int, target_pad_int):\n",
    "    \"\"\"Batch targets, sources, and the lengths of their sentences together\"\"\"\n",
    "    for batch_i in range(0, len(sources)//batch_size):\n",
    "        start_i = batch_i * batch_size\n",
    "\n",
    "        # Slice the right amount for the batch\n",
    "        sources_batch = sources[start_i:start_i + batch_size]\n",
    "        targets_batch = targets[start_i:start_i + batch_size]\n",
    "\n",
    "        # Pad\n",
    "        pad_sources_batch = np.array(pad_sentence_batch(sources_batch, source_pad_int))\n",
    "        pad_targets_batch = np.array(pad_sentence_batch(targets_batch, target_pad_int))\n",
    "\n",
    "        # Need the lengths for the _lengths parameters\n",
    "        pad_targets_lengths = []\n",
    "        for target in pad_targets_batch:\n",
    "            pad_targets_lengths.append(len(target))\n",
    "\n",
    "        pad_source_lengths = []\n",
    "        for source in pad_sources_batch:\n",
    "            pad_source_lengths.append(len(source))\n",
    "\n",
    "        yield pad_sources_batch, pad_targets_batch, pad_source_lengths, pad_targets_lengths\n"
   ]
  },
  {
   "cell_type": "markdown",
   "metadata": {},
   "source": [
    "### Train\n",
    "Train the neural network on the preprocessed data. If you have a hard time getting a good loss, check the forms to see if anyone is having the same problem."
   ]
  },
  {
   "cell_type": "code",
   "execution_count": 35,
   "metadata": {
    "scrolled": false
   },
   "outputs": [
    {
     "name": "stdout",
     "output_type": "stream",
     "text": [
      "Epoch   0 Batch   10/538 - Train Accuracy: 0.3082, Validation Accuracy: 0.3816, Loss: 3.2575\n",
      "Epoch   0 Batch   20/538 - Train Accuracy: 0.3519, Validation Accuracy: 0.3839, Loss: 2.8082\n",
      "Epoch   0 Batch   30/538 - Train Accuracy: 0.3332, Validation Accuracy: 0.4002, Loss: 2.6765\n",
      "Epoch   0 Batch   40/538 - Train Accuracy: 0.4405, Validation Accuracy: 0.4432, Loss: 2.2290\n",
      "Epoch   0 Batch   50/538 - Train Accuracy: 0.4363, Validation Accuracy: 0.4718, Loss: 2.1934\n",
      "Epoch   0 Batch   60/538 - Train Accuracy: 0.4301, Validation Accuracy: 0.4837, Loss: 2.0217\n",
      "Epoch   0 Batch   70/538 - Train Accuracy: 0.4027, Validation Accuracy: 0.4510, Loss: 1.7841\n",
      "Epoch   0 Batch   80/538 - Train Accuracy: 0.3865, Validation Accuracy: 0.4652, Loss: 1.6940\n",
      "Epoch   0 Batch   90/538 - Train Accuracy: 0.4269, Validation Accuracy: 0.4709, Loss: 1.4739\n",
      "Epoch   0 Batch  100/538 - Train Accuracy: 0.4453, Validation Accuracy: 0.4865, Loss: 1.3358\n",
      "Epoch   0 Batch  110/538 - Train Accuracy: 0.4393, Validation Accuracy: 0.4973, Loss: 1.2978\n",
      "Epoch   0 Batch  120/538 - Train Accuracy: 0.4662, Validation Accuracy: 0.5051, Loss: 1.1591\n",
      "Epoch   0 Batch  130/538 - Train Accuracy: 0.4892, Validation Accuracy: 0.5071, Loss: 1.0472\n",
      "Epoch   0 Batch  140/538 - Train Accuracy: 0.4699, Validation Accuracy: 0.5229, Loss: 1.0906\n",
      "Epoch   0 Batch  150/538 - Train Accuracy: 0.5195, Validation Accuracy: 0.5225, Loss: 0.9688\n",
      "Epoch   0 Batch  160/538 - Train Accuracy: 0.5240, Validation Accuracy: 0.5474, Loss: 0.8690\n",
      "Epoch   0 Batch  170/538 - Train Accuracy: 0.5593, Validation Accuracy: 0.5653, Loss: 0.8351\n",
      "Epoch   0 Batch  180/538 - Train Accuracy: 0.5815, Validation Accuracy: 0.5726, Loss: 0.8056\n",
      "Epoch   0 Batch  190/538 - Train Accuracy: 0.5655, Validation Accuracy: 0.5781, Loss: 0.7995\n",
      "Epoch   0 Batch  200/538 - Train Accuracy: 0.5664, Validation Accuracy: 0.5682, Loss: 0.7564\n",
      "Epoch   0 Batch  210/538 - Train Accuracy: 0.5644, Validation Accuracy: 0.5749, Loss: 0.7218\n",
      "Epoch   0 Batch  220/538 - Train Accuracy: 0.5385, Validation Accuracy: 0.5710, Loss: 0.7084\n",
      "Epoch   0 Batch  230/538 - Train Accuracy: 0.5670, Validation Accuracy: 0.6017, Loss: 0.7023\n",
      "Epoch   0 Batch  240/538 - Train Accuracy: 0.5576, Validation Accuracy: 0.5987, Loss: 0.7029\n",
      "Epoch   0 Batch  250/538 - Train Accuracy: 0.5973, Validation Accuracy: 0.6001, Loss: 0.6608\n",
      "Epoch   0 Batch  260/538 - Train Accuracy: 0.5541, Validation Accuracy: 0.5822, Loss: 0.6391\n",
      "Epoch   0 Batch  270/538 - Train Accuracy: 0.5863, Validation Accuracy: 0.5865, Loss: 0.6408\n",
      "Epoch   0 Batch  280/538 - Train Accuracy: 0.6202, Validation Accuracy: 0.6051, Loss: 0.6347\n",
      "Epoch   0 Batch  290/538 - Train Accuracy: 0.5984, Validation Accuracy: 0.6360, Loss: 0.6275\n",
      "Epoch   0 Batch  300/538 - Train Accuracy: 0.6129, Validation Accuracy: 0.6161, Loss: 0.6038\n",
      "Epoch   0 Batch  310/538 - Train Accuracy: 0.6086, Validation Accuracy: 0.6229, Loss: 0.6012\n",
      "Epoch   0 Batch  320/538 - Train Accuracy: 0.6349, Validation Accuracy: 0.6406, Loss: 0.5786\n",
      "Epoch   0 Batch  330/538 - Train Accuracy: 0.6220, Validation Accuracy: 0.6257, Loss: 0.5540\n",
      "Epoch   0 Batch  340/538 - Train Accuracy: 0.6250, Validation Accuracy: 0.6490, Loss: 0.5890\n",
      "Epoch   0 Batch  350/538 - Train Accuracy: 0.6298, Validation Accuracy: 0.6353, Loss: 0.5594\n",
      "Epoch   0 Batch  360/538 - Train Accuracy: 0.6295, Validation Accuracy: 0.6357, Loss: 0.5501\n",
      "Epoch   0 Batch  370/538 - Train Accuracy: 0.6188, Validation Accuracy: 0.6412, Loss: 0.5626\n",
      "Epoch   0 Batch  380/538 - Train Accuracy: 0.6496, Validation Accuracy: 0.6346, Loss: 0.5188\n",
      "Epoch   0 Batch  390/538 - Train Accuracy: 0.6683, Validation Accuracy: 0.6486, Loss: 0.5064\n",
      "Epoch   0 Batch  400/538 - Train Accuracy: 0.6430, Validation Accuracy: 0.6573, Loss: 0.5011\n",
      "Epoch   0 Batch  410/538 - Train Accuracy: 0.6465, Validation Accuracy: 0.6509, Loss: 0.5175\n",
      "Epoch   0 Batch  420/538 - Train Accuracy: 0.6871, Validation Accuracy: 0.6612, Loss: 0.4858\n",
      "Epoch   0 Batch  430/538 - Train Accuracy: 0.6711, Validation Accuracy: 0.6619, Loss: 0.4917\n",
      "Epoch   0 Batch  440/538 - Train Accuracy: 0.6453, Validation Accuracy: 0.6532, Loss: 0.5066\n",
      "Epoch   0 Batch  450/538 - Train Accuracy: 0.6644, Validation Accuracy: 0.6717, Loss: 0.4761\n",
      "Epoch   0 Batch  460/538 - Train Accuracy: 0.6646, Validation Accuracy: 0.6696, Loss: 0.4540\n",
      "Epoch   0 Batch  470/538 - Train Accuracy: 0.6754, Validation Accuracy: 0.6859, Loss: 0.4331\n",
      "Epoch   0 Batch  480/538 - Train Accuracy: 0.6970, Validation Accuracy: 0.6614, Loss: 0.4290\n",
      "Epoch   0 Batch  490/538 - Train Accuracy: 0.7022, Validation Accuracy: 0.6951, Loss: 0.4186\n",
      "Epoch   0 Batch  500/538 - Train Accuracy: 0.7330, Validation Accuracy: 0.6752, Loss: 0.3753\n",
      "Epoch   0 Batch  510/538 - Train Accuracy: 0.7061, Validation Accuracy: 0.7060, Loss: 0.3996\n",
      "Epoch   0 Batch  520/538 - Train Accuracy: 0.6945, Validation Accuracy: 0.6932, Loss: 0.4228\n",
      "Epoch   0 Batch  530/538 - Train Accuracy: 0.7012, Validation Accuracy: 0.6950, Loss: 0.4055\n",
      "Epoch   1 Batch   10/538 - Train Accuracy: 0.7020, Validation Accuracy: 0.6974, Loss: 0.3959\n",
      "Epoch   1 Batch   20/538 - Train Accuracy: 0.7202, Validation Accuracy: 0.7289, Loss: 0.3996\n",
      "Epoch   1 Batch   30/538 - Train Accuracy: 0.6857, Validation Accuracy: 0.7170, Loss: 0.4045\n",
      "Epoch   1 Batch   40/538 - Train Accuracy: 0.7456, Validation Accuracy: 0.7324, Loss: 0.3146\n",
      "Epoch   1 Batch   50/538 - Train Accuracy: 0.7496, Validation Accuracy: 0.7395, Loss: 0.3359\n",
      "Epoch   1 Batch   60/538 - Train Accuracy: 0.7555, Validation Accuracy: 0.7654, Loss: 0.3359\n",
      "Epoch   1 Batch   70/538 - Train Accuracy: 0.7662, Validation Accuracy: 0.7365, Loss: 0.3012\n",
      "Epoch   1 Batch   80/538 - Train Accuracy: 0.7600, Validation Accuracy: 0.7582, Loss: 0.3250\n",
      "Epoch   1 Batch   90/538 - Train Accuracy: 0.7519, Validation Accuracy: 0.7598, Loss: 0.3039\n",
      "Epoch   1 Batch  100/538 - Train Accuracy: 0.7691, Validation Accuracy: 0.7528, Loss: 0.2963\n",
      "Epoch   1 Batch  110/538 - Train Accuracy: 0.7730, Validation Accuracy: 0.7628, Loss: 0.2789\n",
      "Epoch   1 Batch  120/538 - Train Accuracy: 0.7891, Validation Accuracy: 0.7710, Loss: 0.2682\n",
      "Epoch   1 Batch  130/538 - Train Accuracy: 0.7961, Validation Accuracy: 0.7580, Loss: 0.2700\n",
      "Epoch   1 Batch  140/538 - Train Accuracy: 0.7680, Validation Accuracy: 0.7729, Loss: 0.2742\n",
      "Epoch   1 Batch  150/538 - Train Accuracy: 0.7844, Validation Accuracy: 0.7683, Loss: 0.2645\n",
      "Epoch   1 Batch  160/538 - Train Accuracy: 0.7933, Validation Accuracy: 0.7669, Loss: 0.2406\n",
      "Epoch   1 Batch  170/538 - Train Accuracy: 0.7837, Validation Accuracy: 0.7713, Loss: 0.2489\n",
      "Epoch   1 Batch  180/538 - Train Accuracy: 0.8209, Validation Accuracy: 0.7931, Loss: 0.2291\n",
      "Epoch   1 Batch  190/538 - Train Accuracy: 0.7976, Validation Accuracy: 0.7908, Loss: 0.2391\n",
      "Epoch   1 Batch  200/538 - Train Accuracy: 0.8234, Validation Accuracy: 0.7999, Loss: 0.2007\n",
      "Epoch   1 Batch  210/538 - Train Accuracy: 0.8000, Validation Accuracy: 0.7981, Loss: 0.2044\n",
      "Epoch   1 Batch  220/538 - Train Accuracy: 0.8251, Validation Accuracy: 0.8200, Loss: 0.1937\n",
      "Epoch   1 Batch  230/538 - Train Accuracy: 0.8436, Validation Accuracy: 0.8232, Loss: 0.2022\n",
      "Epoch   1 Batch  240/538 - Train Accuracy: 0.8471, Validation Accuracy: 0.8271, Loss: 0.1938\n",
      "Epoch   1 Batch  250/538 - Train Accuracy: 0.8340, Validation Accuracy: 0.8335, Loss: 0.1760\n",
      "Epoch   1 Batch  260/538 - Train Accuracy: 0.8173, Validation Accuracy: 0.8336, Loss: 0.1769\n",
      "Epoch   1 Batch  270/538 - Train Accuracy: 0.8527, Validation Accuracy: 0.8363, Loss: 0.1639\n",
      "Epoch   1 Batch  280/538 - Train Accuracy: 0.8677, Validation Accuracy: 0.8368, Loss: 0.1579\n",
      "Epoch   1 Batch  290/538 - Train Accuracy: 0.8676, Validation Accuracy: 0.8342, Loss: 0.1505\n",
      "Epoch   1 Batch  300/538 - Train Accuracy: 0.8717, Validation Accuracy: 0.8532, Loss: 0.1466\n",
      "Epoch   1 Batch  310/538 - Train Accuracy: 0.8764, Validation Accuracy: 0.8544, Loss: 0.1467\n",
      "Epoch   1 Batch  320/538 - Train Accuracy: 0.8551, Validation Accuracy: 0.8672, Loss: 0.1452\n",
      "Epoch   1 Batch  330/538 - Train Accuracy: 0.8759, Validation Accuracy: 0.8366, Loss: 0.1307\n",
      "Epoch   1 Batch  340/538 - Train Accuracy: 0.8641, Validation Accuracy: 0.8494, Loss: 0.1435\n",
      "Epoch   1 Batch  350/538 - Train Accuracy: 0.8936, Validation Accuracy: 0.8590, Loss: 0.1435\n",
      "Epoch   1 Batch  360/538 - Train Accuracy: 0.8760, Validation Accuracy: 0.8649, Loss: 0.1295\n"
     ]
    },
    {
     "name": "stdout",
     "output_type": "stream",
     "text": [
      "Epoch   1 Batch  370/538 - Train Accuracy: 0.8695, Validation Accuracy: 0.8519, Loss: 0.1286\n",
      "Epoch   1 Batch  380/538 - Train Accuracy: 0.8877, Validation Accuracy: 0.8759, Loss: 0.1119\n",
      "Epoch   1 Batch  390/538 - Train Accuracy: 0.8968, Validation Accuracy: 0.8725, Loss: 0.1034\n",
      "Epoch   1 Batch  400/538 - Train Accuracy: 0.8735, Validation Accuracy: 0.8613, Loss: 0.1114\n",
      "Epoch   1 Batch  410/538 - Train Accuracy: 0.8955, Validation Accuracy: 0.8793, Loss: 0.1191\n",
      "Epoch   1 Batch  420/538 - Train Accuracy: 0.8879, Validation Accuracy: 0.8798, Loss: 0.1200\n",
      "Epoch   1 Batch  430/538 - Train Accuracy: 0.8848, Validation Accuracy: 0.8743, Loss: 0.1121\n",
      "Epoch   1 Batch  440/538 - Train Accuracy: 0.8869, Validation Accuracy: 0.8713, Loss: 0.1057\n",
      "Epoch   1 Batch  450/538 - Train Accuracy: 0.8850, Validation Accuracy: 0.8892, Loss: 0.1069\n",
      "Epoch   1 Batch  460/538 - Train Accuracy: 0.8759, Validation Accuracy: 0.8640, Loss: 0.0955\n",
      "Epoch   1 Batch  470/538 - Train Accuracy: 0.9074, Validation Accuracy: 0.8798, Loss: 0.0898\n",
      "Epoch   1 Batch  480/538 - Train Accuracy: 0.9020, Validation Accuracy: 0.8754, Loss: 0.0857\n",
      "Epoch   1 Batch  490/538 - Train Accuracy: 0.9027, Validation Accuracy: 0.8837, Loss: 0.0849\n",
      "Epoch   1 Batch  500/538 - Train Accuracy: 0.9286, Validation Accuracy: 0.9006, Loss: 0.0671\n",
      "Epoch   1 Batch  510/538 - Train Accuracy: 0.9059, Validation Accuracy: 0.9004, Loss: 0.0773\n",
      "Epoch   1 Batch  520/538 - Train Accuracy: 0.9076, Validation Accuracy: 0.8778, Loss: 0.0827\n",
      "Epoch   1 Batch  530/538 - Train Accuracy: 0.8896, Validation Accuracy: 0.8892, Loss: 0.0837\n",
      "Epoch   2 Batch   10/538 - Train Accuracy: 0.9021, Validation Accuracy: 0.9130, Loss: 0.0951\n",
      "Epoch   2 Batch   20/538 - Train Accuracy: 0.9003, Validation Accuracy: 0.9034, Loss: 0.0818\n",
      "Epoch   2 Batch   30/538 - Train Accuracy: 0.9109, Validation Accuracy: 0.8974, Loss: 0.0813\n",
      "Epoch   2 Batch   40/538 - Train Accuracy: 0.9208, Validation Accuracy: 0.9089, Loss: 0.0611\n",
      "Epoch   2 Batch   50/538 - Train Accuracy: 0.9146, Validation Accuracy: 0.9073, Loss: 0.0645\n",
      "Epoch   2 Batch   60/538 - Train Accuracy: 0.9262, Validation Accuracy: 0.9132, Loss: 0.0655\n",
      "Epoch   2 Batch   70/538 - Train Accuracy: 0.9120, Validation Accuracy: 0.8993, Loss: 0.0647\n",
      "Epoch   2 Batch   80/538 - Train Accuracy: 0.9129, Validation Accuracy: 0.9125, Loss: 0.0655\n",
      "Epoch   2 Batch   90/538 - Train Accuracy: 0.9156, Validation Accuracy: 0.9109, Loss: 0.0748\n",
      "Epoch   2 Batch  100/538 - Train Accuracy: 0.9283, Validation Accuracy: 0.9112, Loss: 0.0541\n",
      "Epoch   2 Batch  110/538 - Train Accuracy: 0.9127, Validation Accuracy: 0.9142, Loss: 0.0602\n",
      "Epoch   2 Batch  120/538 - Train Accuracy: 0.9416, Validation Accuracy: 0.9183, Loss: 0.0506\n",
      "Epoch   2 Batch  130/538 - Train Accuracy: 0.9278, Validation Accuracy: 0.9336, Loss: 0.0556\n",
      "Epoch   2 Batch  140/538 - Train Accuracy: 0.9166, Validation Accuracy: 0.9228, Loss: 0.0717\n",
      "Epoch   2 Batch  150/538 - Train Accuracy: 0.9365, Validation Accuracy: 0.9173, Loss: 0.0527\n",
      "Epoch   2 Batch  160/538 - Train Accuracy: 0.9195, Validation Accuracy: 0.9141, Loss: 0.0581\n",
      "Epoch   2 Batch  170/538 - Train Accuracy: 0.9213, Validation Accuracy: 0.9112, Loss: 0.0586\n",
      "Epoch   2 Batch  180/538 - Train Accuracy: 0.9278, Validation Accuracy: 0.9233, Loss: 0.0527\n",
      "Epoch   2 Batch  190/538 - Train Accuracy: 0.9262, Validation Accuracy: 0.9226, Loss: 0.0681\n",
      "Epoch   2 Batch  200/538 - Train Accuracy: 0.9299, Validation Accuracy: 0.9174, Loss: 0.0447\n",
      "Epoch   2 Batch  210/538 - Train Accuracy: 0.9044, Validation Accuracy: 0.9165, Loss: 0.0565\n",
      "Epoch   2 Batch  220/538 - Train Accuracy: 0.9012, Validation Accuracy: 0.9105, Loss: 0.0548\n",
      "Epoch   2 Batch  230/538 - Train Accuracy: 0.9328, Validation Accuracy: 0.9254, Loss: 0.0534\n",
      "Epoch   2 Batch  240/538 - Train Accuracy: 0.9262, Validation Accuracy: 0.9352, Loss: 0.0553\n",
      "Epoch   2 Batch  250/538 - Train Accuracy: 0.9430, Validation Accuracy: 0.9251, Loss: 0.0538\n",
      "Epoch   2 Batch  260/538 - Train Accuracy: 0.8969, Validation Accuracy: 0.9181, Loss: 0.0575\n",
      "Epoch   2 Batch  270/538 - Train Accuracy: 0.9268, Validation Accuracy: 0.9183, Loss: 0.0483\n",
      "Epoch   2 Batch  280/538 - Train Accuracy: 0.9418, Validation Accuracy: 0.9260, Loss: 0.0457\n",
      "Epoch   2 Batch  290/538 - Train Accuracy: 0.9414, Validation Accuracy: 0.9268, Loss: 0.0480\n",
      "Epoch   2 Batch  300/538 - Train Accuracy: 0.9263, Validation Accuracy: 0.9242, Loss: 0.0575\n",
      "Epoch   2 Batch  310/538 - Train Accuracy: 0.9434, Validation Accuracy: 0.9352, Loss: 0.0632\n",
      "Epoch   2 Batch  320/538 - Train Accuracy: 0.9412, Validation Accuracy: 0.9299, Loss: 0.0470\n",
      "Epoch   2 Batch  330/538 - Train Accuracy: 0.9507, Validation Accuracy: 0.9395, Loss: 0.0424\n",
      "Epoch   2 Batch  340/538 - Train Accuracy: 0.9342, Validation Accuracy: 0.9490, Loss: 0.0452\n",
      "Epoch   2 Batch  350/538 - Train Accuracy: 0.9472, Validation Accuracy: 0.9118, Loss: 0.0507\n",
      "Epoch   2 Batch  360/538 - Train Accuracy: 0.9309, Validation Accuracy: 0.9411, Loss: 0.0436\n",
      "Epoch   2 Batch  370/538 - Train Accuracy: 0.9504, Validation Accuracy: 0.9322, Loss: 0.0455\n",
      "Epoch   2 Batch  380/538 - Train Accuracy: 0.9324, Validation Accuracy: 0.9380, Loss: 0.0393\n",
      "Epoch   2 Batch  390/538 - Train Accuracy: 0.9310, Validation Accuracy: 0.9270, Loss: 0.0392\n",
      "Epoch   2 Batch  400/538 - Train Accuracy: 0.9338, Validation Accuracy: 0.9405, Loss: 0.0419\n",
      "Epoch   2 Batch  410/538 - Train Accuracy: 0.9518, Validation Accuracy: 0.9435, Loss: 0.0396\n",
      "Epoch   2 Batch  420/538 - Train Accuracy: 0.9457, Validation Accuracy: 0.9423, Loss: 0.0416\n",
      "Epoch   2 Batch  430/538 - Train Accuracy: 0.9404, Validation Accuracy: 0.9348, Loss: 0.0413\n",
      "Epoch   2 Batch  440/538 - Train Accuracy: 0.9373, Validation Accuracy: 0.9371, Loss: 0.0430\n",
      "Epoch   2 Batch  450/538 - Train Accuracy: 0.9239, Validation Accuracy: 0.9354, Loss: 0.0522\n",
      "Epoch   2 Batch  460/538 - Train Accuracy: 0.9252, Validation Accuracy: 0.9386, Loss: 0.0433\n",
      "Epoch   2 Batch  470/538 - Train Accuracy: 0.9483, Validation Accuracy: 0.9480, Loss: 0.0397\n",
      "Epoch   2 Batch  480/538 - Train Accuracy: 0.9472, Validation Accuracy: 0.9393, Loss: 0.0375\n",
      "Epoch   2 Batch  490/538 - Train Accuracy: 0.9422, Validation Accuracy: 0.9409, Loss: 0.0389\n",
      "Epoch   2 Batch  500/538 - Train Accuracy: 0.9670, Validation Accuracy: 0.9426, Loss: 0.0290\n",
      "Epoch   2 Batch  510/538 - Train Accuracy: 0.9516, Validation Accuracy: 0.9425, Loss: 0.0367\n",
      "Epoch   2 Batch  520/538 - Train Accuracy: 0.9342, Validation Accuracy: 0.9473, Loss: 0.0391\n",
      "Epoch   2 Batch  530/538 - Train Accuracy: 0.9219, Validation Accuracy: 0.9483, Loss: 0.0412\n",
      "Epoch   3 Batch   10/538 - Train Accuracy: 0.9516, Validation Accuracy: 0.9513, Loss: 0.0408\n",
      "Epoch   3 Batch   20/538 - Train Accuracy: 0.9488, Validation Accuracy: 0.9426, Loss: 0.0388\n",
      "Epoch   3 Batch   30/538 - Train Accuracy: 0.9371, Validation Accuracy: 0.9341, Loss: 0.0429\n",
      "Epoch   3 Batch   40/538 - Train Accuracy: 0.9501, Validation Accuracy: 0.9501, Loss: 0.0284\n",
      "Epoch   3 Batch   50/538 - Train Accuracy: 0.9412, Validation Accuracy: 0.9446, Loss: 0.0347\n",
      "Epoch   3 Batch   60/538 - Train Accuracy: 0.9432, Validation Accuracy: 0.9384, Loss: 0.0363\n",
      "Epoch   3 Batch   70/538 - Train Accuracy: 0.9408, Validation Accuracy: 0.9421, Loss: 0.0317\n",
      "Epoch   3 Batch   80/538 - Train Accuracy: 0.9570, Validation Accuracy: 0.9547, Loss: 0.0326\n",
      "Epoch   3 Batch   90/538 - Train Accuracy: 0.9509, Validation Accuracy: 0.9577, Loss: 0.0380\n",
      "Epoch   3 Batch  100/538 - Train Accuracy: 0.9605, Validation Accuracy: 0.9593, Loss: 0.0292\n",
      "Epoch   3 Batch  110/538 - Train Accuracy: 0.9582, Validation Accuracy: 0.9517, Loss: 0.0329\n",
      "Epoch   3 Batch  120/538 - Train Accuracy: 0.9670, Validation Accuracy: 0.9395, Loss: 0.0253\n",
      "Epoch   3 Batch  130/538 - Train Accuracy: 0.9604, Validation Accuracy: 0.9498, Loss: 0.0314\n",
      "Epoch   3 Batch  140/538 - Train Accuracy: 0.9361, Validation Accuracy: 0.9489, Loss: 0.0408\n",
      "Epoch   3 Batch  150/538 - Train Accuracy: 0.9504, Validation Accuracy: 0.9476, Loss: 0.0303\n",
      "Epoch   3 Batch  160/538 - Train Accuracy: 0.9349, Validation Accuracy: 0.9457, Loss: 0.0325\n",
      "Epoch   3 Batch  170/538 - Train Accuracy: 0.9429, Validation Accuracy: 0.9508, Loss: 0.0365\n",
      "Epoch   3 Batch  180/538 - Train Accuracy: 0.9541, Validation Accuracy: 0.9533, Loss: 0.0334\n",
      "Epoch   3 Batch  190/538 - Train Accuracy: 0.9565, Validation Accuracy: 0.9508, Loss: 0.0430\n"
     ]
    },
    {
     "name": "stdout",
     "output_type": "stream",
     "text": [
      "Epoch   3 Batch  200/538 - Train Accuracy: 0.9596, Validation Accuracy: 0.9414, Loss: 0.0222\n",
      "Epoch   3 Batch  210/538 - Train Accuracy: 0.9392, Validation Accuracy: 0.9458, Loss: 0.0339\n",
      "Epoch   3 Batch  220/538 - Train Accuracy: 0.9490, Validation Accuracy: 0.9492, Loss: 0.0322\n",
      "Epoch   3 Batch  230/538 - Train Accuracy: 0.9437, Validation Accuracy: 0.9515, Loss: 0.0320\n",
      "Epoch   3 Batch  240/538 - Train Accuracy: 0.9506, Validation Accuracy: 0.9613, Loss: 0.0352\n",
      "Epoch   3 Batch  250/538 - Train Accuracy: 0.9516, Validation Accuracy: 0.9419, Loss: 0.0359\n",
      "Epoch   3 Batch  260/538 - Train Accuracy: 0.9353, Validation Accuracy: 0.9469, Loss: 0.0332\n",
      "Epoch   3 Batch  270/538 - Train Accuracy: 0.9469, Validation Accuracy: 0.9519, Loss: 0.0306\n",
      "Epoch   3 Batch  280/538 - Train Accuracy: 0.9598, Validation Accuracy: 0.9522, Loss: 0.0248\n",
      "Epoch   3 Batch  290/538 - Train Accuracy: 0.9592, Validation Accuracy: 0.9576, Loss: 0.0261\n",
      "Epoch   3 Batch  300/538 - Train Accuracy: 0.9412, Validation Accuracy: 0.9560, Loss: 0.0297\n",
      "Epoch   3 Batch  310/538 - Train Accuracy: 0.9688, Validation Accuracy: 0.9663, Loss: 0.0369\n",
      "Epoch   3 Batch  320/538 - Train Accuracy: 0.9632, Validation Accuracy: 0.9574, Loss: 0.0271\n",
      "Epoch   3 Batch  330/538 - Train Accuracy: 0.9665, Validation Accuracy: 0.9551, Loss: 0.0255\n",
      "Epoch   3 Batch  340/538 - Train Accuracy: 0.9553, Validation Accuracy: 0.9545, Loss: 0.0291\n",
      "Epoch   3 Batch  350/538 - Train Accuracy: 0.9652, Validation Accuracy: 0.9505, Loss: 0.0308\n",
      "Epoch   3 Batch  360/538 - Train Accuracy: 0.9543, Validation Accuracy: 0.9611, Loss: 0.0287\n",
      "Epoch   3 Batch  370/538 - Train Accuracy: 0.9592, Validation Accuracy: 0.9490, Loss: 0.0283\n",
      "Epoch   3 Batch  380/538 - Train Accuracy: 0.9588, Validation Accuracy: 0.9641, Loss: 0.0279\n",
      "Epoch   3 Batch  390/538 - Train Accuracy: 0.9459, Validation Accuracy: 0.9482, Loss: 0.0236\n",
      "Epoch   3 Batch  400/538 - Train Accuracy: 0.9628, Validation Accuracy: 0.9615, Loss: 0.0280\n",
      "Epoch   3 Batch  410/538 - Train Accuracy: 0.9672, Validation Accuracy: 0.9556, Loss: 0.0251\n",
      "Epoch   3 Batch  420/538 - Train Accuracy: 0.9570, Validation Accuracy: 0.9579, Loss: 0.0265\n",
      "Epoch   3 Batch  430/538 - Train Accuracy: 0.9488, Validation Accuracy: 0.9373, Loss: 0.0274\n",
      "Epoch   3 Batch  440/538 - Train Accuracy: 0.9645, Validation Accuracy: 0.9499, Loss: 0.0317\n",
      "Epoch   3 Batch  450/538 - Train Accuracy: 0.9319, Validation Accuracy: 0.9553, Loss: 0.0389\n",
      "Epoch   3 Batch  460/538 - Train Accuracy: 0.9403, Validation Accuracy: 0.9709, Loss: 0.0287\n",
      "Epoch   3 Batch  470/538 - Train Accuracy: 0.9710, Validation Accuracy: 0.9494, Loss: 0.0261\n",
      "Epoch   3 Batch  480/538 - Train Accuracy: 0.9648, Validation Accuracy: 0.9535, Loss: 0.0241\n",
      "Epoch   3 Batch  490/538 - Train Accuracy: 0.9552, Validation Accuracy: 0.9645, Loss: 0.0271\n",
      "Epoch   3 Batch  500/538 - Train Accuracy: 0.9787, Validation Accuracy: 0.9585, Loss: 0.0195\n",
      "Epoch   3 Batch  510/538 - Train Accuracy: 0.9695, Validation Accuracy: 0.9558, Loss: 0.0256\n",
      "Epoch   3 Batch  520/538 - Train Accuracy: 0.9564, Validation Accuracy: 0.9553, Loss: 0.0312\n",
      "Epoch   3 Batch  530/538 - Train Accuracy: 0.9496, Validation Accuracy: 0.9680, Loss: 0.0289\n",
      "Model Trained and Saved\n"
     ]
    }
   ],
   "source": [
    "\"\"\"\n",
    "DON'T MODIFY ANYTHING IN THIS CELL\n",
    "\"\"\"\n",
    "def get_accuracy(target, logits):\n",
    "    \"\"\"\n",
    "    Calculate accuracy\n",
    "    \"\"\"\n",
    "    max_seq = max(target.shape[1], logits.shape[1])\n",
    "    if max_seq - target.shape[1]:\n",
    "        target = np.pad(\n",
    "            target,\n",
    "            [(0,0),(0,max_seq - target.shape[1])],\n",
    "            'constant')\n",
    "    if max_seq - logits.shape[1]:\n",
    "        logits = np.pad(\n",
    "            logits,\n",
    "            [(0,0),(0,max_seq - logits.shape[1])],\n",
    "            'constant')\n",
    "\n",
    "    return np.mean(np.equal(target, logits))\n",
    "\n",
    "# Split data to training and validation sets\n",
    "train_source = source_int_text[batch_size:]\n",
    "train_target = target_int_text[batch_size:]\n",
    "valid_source = source_int_text[:batch_size]\n",
    "valid_target = target_int_text[:batch_size]\n",
    "(valid_sources_batch, valid_targets_batch, valid_sources_lengths, valid_targets_lengths ) = next(get_batches(valid_source,\n",
    "                                                                                                             valid_target,\n",
    "                                                                                                             batch_size,\n",
    "                                                                                                             source_vocab_to_int['<PAD>'],\n",
    "                                                                                                             target_vocab_to_int['<PAD>']))                                                                                                  \n",
    "with tf.Session(graph=train_graph) as sess:\n",
    "    sess.run(tf.global_variables_initializer())\n",
    "\n",
    "    for epoch_i in range(epochs):\n",
    "        for batch_i, (source_batch, target_batch, sources_lengths, targets_lengths) in enumerate(\n",
    "                get_batches(train_source, train_target, batch_size,\n",
    "                            source_vocab_to_int['<PAD>'],\n",
    "                            target_vocab_to_int['<PAD>'])):\n",
    "\n",
    "            _, loss = sess.run(\n",
    "                [train_op, cost],\n",
    "                {input_data: source_batch,\n",
    "                 targets: target_batch,\n",
    "                 lr: learning_rate,\n",
    "                 target_sequence_length: targets_lengths,\n",
    "                 source_sequence_length: sources_lengths,\n",
    "                 keep_prob: keep_probability})\n",
    "\n",
    "\n",
    "            if batch_i % display_step == 0 and batch_i > 0:\n",
    "\n",
    "\n",
    "                batch_train_logits = sess.run(\n",
    "                    inference_logits,\n",
    "                    {input_data: source_batch,\n",
    "                     source_sequence_length: sources_lengths,\n",
    "                     target_sequence_length: targets_lengths,\n",
    "                     keep_prob: 1.0})\n",
    "\n",
    "\n",
    "                batch_valid_logits = sess.run(\n",
    "                    inference_logits,\n",
    "                    {input_data: valid_sources_batch,\n",
    "                     source_sequence_length: valid_sources_lengths,\n",
    "                     target_sequence_length: valid_targets_lengths,\n",
    "                     keep_prob: 1.0})\n",
    "\n",
    "                train_acc = get_accuracy(target_batch, batch_train_logits)\n",
    "\n",
    "                valid_acc = get_accuracy(valid_targets_batch, batch_valid_logits)\n",
    "\n",
    "                print('Epoch {:>3} Batch {:>4}/{} - Train Accuracy: {:>6.4f}, Validation Accuracy: {:>6.4f}, Loss: {:>6.4f}'\n",
    "                      .format(epoch_i, batch_i, len(source_int_text) // batch_size, train_acc, valid_acc, loss))\n",
    "\n",
    "    # Save Model\n",
    "    saver = tf.train.Saver()\n",
    "    saver.save(sess, save_path)\n",
    "    print('Model Trained and Saved')"
   ]
  },
  {
   "cell_type": "markdown",
   "metadata": {},
   "source": [
    "### Save Parameters\n",
    "Save the `batch_size` and `save_path` parameters for inference."
   ]
  },
  {
   "cell_type": "code",
   "execution_count": 36,
   "metadata": {
    "collapsed": true
   },
   "outputs": [],
   "source": [
    "\"\"\"\n",
    "DON'T MODIFY ANYTHING IN THIS CELL\n",
    "\"\"\"\n",
    "# Save parameters for checkpoint\n",
    "helper.save_params(save_path)"
   ]
  },
  {
   "cell_type": "markdown",
   "metadata": {},
   "source": [
    "# Checkpoint"
   ]
  },
  {
   "cell_type": "code",
   "execution_count": 37,
   "metadata": {
    "collapsed": true
   },
   "outputs": [],
   "source": [
    "\"\"\"\n",
    "DON'T MODIFY ANYTHING IN THIS CELL\n",
    "\"\"\"\n",
    "import tensorflow as tf\n",
    "import numpy as np\n",
    "import helper\n",
    "import problem_unittests as tests\n",
    "\n",
    "_, (source_vocab_to_int, target_vocab_to_int), (source_int_to_vocab, target_int_to_vocab) = helper.load_preprocess()\n",
    "load_path = helper.load_params()"
   ]
  },
  {
   "cell_type": "markdown",
   "metadata": {},
   "source": [
    "## Sentence to Sequence\n",
    "To feed a sentence into the model for translation, you first need to preprocess it.  Implement the function `sentence_to_seq()` to preprocess new sentences.\n",
    "\n",
    "- Convert the sentence to lowercase\n",
    "- Convert words into ids using `vocab_to_int`\n",
    " - Convert words not in the vocabulary, to the `<UNK>` word id."
   ]
  },
  {
   "cell_type": "code",
   "execution_count": 38,
   "metadata": {},
   "outputs": [
    {
     "name": "stdout",
     "output_type": "stream",
     "text": [
      "Tests Passed\n"
     ]
    }
   ],
   "source": [
    "def sentence_to_seq(sentence, vocab_to_int):\n",
    "    \"\"\"\n",
    "    Convert a sentence to a sequence of ids\n",
    "    :param sentence: String\n",
    "    :param vocab_to_int: Dictionary to go from the words to an id\n",
    "    :return: List of word ids\n",
    "    \"\"\"\n",
    "    word_ids = []\n",
    "    for word in sentence.lower().split():\n",
    "        if word in vocab_to_int:\n",
    "            word_ids.append(vocab_to_int[word])\n",
    "        else:\n",
    "            word_ids.append(vocab_to_int['<UNK>'])\n",
    "    return word_ids\n",
    "\n",
    "\n",
    "\"\"\"\n",
    "DON'T MODIFY ANYTHING IN THIS CELL THAT IS BELOW THIS LINE\n",
    "\"\"\"\n",
    "tests.test_sentence_to_seq(sentence_to_seq)"
   ]
  },
  {
   "cell_type": "markdown",
   "metadata": {},
   "source": [
    "## Translate\n",
    "This will translate `translate_sentence` from English to French."
   ]
  },
  {
   "cell_type": "code",
   "execution_count": 39,
   "metadata": {},
   "outputs": [
    {
     "name": "stdout",
     "output_type": "stream",
     "text": [
      "INFO:tensorflow:Restoring parameters from checkpoints/dev\n",
      "Input\n",
      "  Word Ids:      [135, 195, 26, 21, 215, 6, 110]\n",
      "  English Words: ['he', 'saw', 'a', 'old', 'yellow', 'truck', '.']\n",
      "\n",
      "Prediction\n",
      "  Word Ids:      [266, 13, 119, 328, 244, 333, 78, 47, 1]\n",
      "  French Words: il a vu un vieux camion jaune . <EOS>\n"
     ]
    }
   ],
   "source": [
    "translate_sentence = 'he saw a old yellow truck .'\n",
    "\n",
    "\n",
    "\"\"\"\n",
    "DON'T MODIFY ANYTHING IN THIS CELL\n",
    "\"\"\"\n",
    "translate_sentence = sentence_to_seq(translate_sentence, source_vocab_to_int)\n",
    "\n",
    "loaded_graph = tf.Graph()\n",
    "with tf.Session(graph=loaded_graph) as sess:\n",
    "    # Load saved model\n",
    "    loader = tf.train.import_meta_graph(load_path + '.meta')\n",
    "    loader.restore(sess, load_path)\n",
    "\n",
    "    input_data = loaded_graph.get_tensor_by_name('input:0')\n",
    "    logits = loaded_graph.get_tensor_by_name('predictions:0')\n",
    "    target_sequence_length = loaded_graph.get_tensor_by_name('target_sequence_length:0')\n",
    "    source_sequence_length = loaded_graph.get_tensor_by_name('source_sequence_length:0')\n",
    "    keep_prob = loaded_graph.get_tensor_by_name('keep_prob:0')\n",
    "\n",
    "    translate_logits = sess.run(logits, {input_data: [translate_sentence]*batch_size,\n",
    "                                         target_sequence_length: [len(translate_sentence)*2]*batch_size,\n",
    "                                         source_sequence_length: [len(translate_sentence)]*batch_size,\n",
    "                                         keep_prob: 1.0})[0]\n",
    "\n",
    "print('Input')\n",
    "print('  Word Ids:      {}'.format([i for i in translate_sentence]))\n",
    "print('  English Words: {}'.format([source_int_to_vocab[i] for i in translate_sentence]))\n",
    "\n",
    "print('\\nPrediction')\n",
    "print('  Word Ids:      {}'.format([i for i in translate_logits]))\n",
    "print('  French Words: {}'.format(\" \".join([target_int_to_vocab[i] for i in translate_logits])))\n"
   ]
  },
  {
   "cell_type": "markdown",
   "metadata": {},
   "source": [
    "## Imperfect Translation\n",
    "You might notice that some sentences translate better than others.  Since the dataset you're using only has a vocabulary of 227 English words of the thousands that you use, you're only going to see good results using these words.  For this project, you don't need a perfect translation. However, if you want to create a better translation model, you'll need better data.\n",
    "\n",
    "You can train on the [WMT10 French-English corpus](http://www.statmt.org/wmt10/training-giga-fren.tar).  This dataset has more vocabulary and richer in topics discussed.  However, this will take you days to train, so make sure you've a GPU and the neural network is performing well on dataset we provided.  Just make sure you play with the WMT10 corpus after you've submitted this project.\n",
    "## Submitting This Project\n",
    "When submitting this project, make sure to run all the cells before saving the notebook. Save the notebook file as \"dlnd_language_translation.ipynb\" and save it as a HTML file under \"File\" -> \"Download as\". Include the \"helper.py\" and \"problem_unittests.py\" files in your submission."
   ]
  },
  {
   "cell_type": "code",
   "execution_count": null,
   "metadata": {
    "collapsed": true
   },
   "outputs": [],
   "source": []
  }
 ],
 "metadata": {
  "anaconda-cloud": {},
  "kernelspec": {
   "display_name": "Python 3",
   "language": "python",
   "name": "python3"
  },
  "language_info": {
   "codemirror_mode": {
    "name": "ipython",
    "version": 3
   },
   "file_extension": ".py",
   "mimetype": "text/x-python",
   "name": "python",
   "nbconvert_exporter": "python",
   "pygments_lexer": "ipython3",
   "version": "3.5.3"
  }
 },
 "nbformat": 4,
 "nbformat_minor": 1
}
